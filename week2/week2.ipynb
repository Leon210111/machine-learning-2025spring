{
 "cells": [
  {
   "cell_type": "markdown",
   "metadata": {},
   "source": [
    "WEEK2-实验报告\n",
    "实验名称：用SVM算法和主成分分析加逻辑回归算法判断红酒档次\n",
    "实验者：励卓远-24307140035\n",
    "实验日期：2025/2/28\n",
    "方案一：运用SVM算法。关键代码：svm_model=SVC(kernel='rbf',C=1.0,gamma='scale',random_state=29)\n",
    "由于SVM对特征尺寸敏感，先进性标准化，再运用RBF高斯核函数进行非线性映射，将原数据映射到高维空间，再找到超平面进行划分。\n",
    "实验结果：当test_size<=0.48时模型准确率为100%，并随着数据准确率减少依旧维持在0.95以上。\n",
    "实验结论：SVM对于数据较少的分类问题泛化能力强，可以找到全局最优解。\n",
    "方案二：先运用PCA对十三维数据进行降维，再进行逻辑回归。关键代码：pca=PCA(n_components=2) X_train_reduced=pca.fit_transform(X_train_std)\n",
    "X_test_reduced=pca.transform(X_test_std) 对标准化后的训练集和数据集都进行降维，lr=LogisticRegression() lr.fit(X_train_reduced,Y_train)\n",
    "Y_pred=lr.predict(X_test_reduced)运用降维后的数据进行逻辑回归。\n",
    "实验结果：test_size在0.1时我们降维到两维准确率为1.0，但test_size为0.11时准确率骤降至0.95随后与test_size共同上升.并且在降维至一维时准确率只有0.85，其余维数差别不明显，都为0.95左右。并且发现直接使用逻辑回归模型在test_size相同时与原模型无明显差别，但PCA模型调整维数时会出现准确率0.02左右波动。\n",
    "实验结论：PCA在处理过高维数据时会对部分数据非常敏感，且降维效果不好，可以考虑直接使用逻辑回归模型."
   ]
  }
 ],
 "metadata": {
  "kernelspec": {
   "display_name": "Python 3",
   "language": "python",
   "name": "python3"
  },
  "language_info": {
   "codemirror_mode": {
    "name": "ipython",
    "version": 3
   },
   "file_extension": ".py",
   "mimetype": "text/x-python",
   "name": "python",
   "nbconvert_exporter": "python",
   "pygments_lexer": "ipython3",
   "version": "3.10.12"
  }
 },
 "nbformat": 4,
 "nbformat_minor": 2
}
